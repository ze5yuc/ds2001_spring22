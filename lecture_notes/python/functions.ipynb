{
 "cells": [
  {
   "cell_type": "markdown",
   "metadata": {},
   "source": [
    "## Functions: Built-In and User-Defined\n",
    "\n",
    "\n",
    "### University of Virginia\n",
    "### Programming for Data Science\n",
    "### Last Updated: June 27, 2021\n",
    "---  \n",
    "\n",
    "### PREREQUISITES \n",
    "- data types\n",
    "- variables\n",
    "- `if` statement\n",
    "- conditional operators\n",
    "- `list comprehension` (not essential here)\n",
    "\n",
    "\n",
    "### SOURCES \n",
    "- Python built-in functions  \n",
    "https://docs.python.org/3/library/functions.html\n",
    "\n",
    "\n",
    "- Some good function examples and details  \n",
    "https://www.w3schools.com/python/python_functions.asp\n",
    "\n",
    "\n",
    "- Default arguments  \n",
    "https://www.geeksforgeeks.org/default-arguments-in-python/  \n",
    "\n",
    "\n",
    "- Details on the function `return` statement  \n",
    "https://realpython.com/python-return-statement/#understanding-the-python-return-statement\n",
    "\n",
    "\n",
    "- Global versus Local Variables  \n",
    "https://www.geeksforgeeks.org/global-local-variables-python/?ref=lbp\n",
    "\n",
    "\n",
    "### OBJECTIVES\n",
    "- Explain the benefits of functions\n",
    "- Illustrate how to use built-in functions\n",
    "- Illustrate how to create and use your own (user-defined) functions\n",
    "- Demonstrate the scope and lifetime of a variable\n",
    "- Illustrate global and local nature of variables through functions\n",
    "- Demonstrate function parameter use\n",
    "- Provide recommendations on how to create and document functions\n",
    "- Show how to print and write docstrings\n",
    "\n",
    "\n",
    "### CONCEPTS\n",
    "\n",
    "- functions\n",
    "- built-in functions\n",
    "- user-defined functions\n",
    "- variable scope\n",
    "- global versus local variables\n",
    "- default arguments\n",
    "- *args\n",
    "- function call\n",
    "- docstring\n",
    "\n",
    "---\n",
    "\n",
    "## I. Introduction to Functions\n",
    "\n",
    "Functions take input and produce output. They contain a block of code to do their work.  \n",
    "They make transformations happen...from simple to complex.\n",
    "\n",
    "Python provides many built-in functions.  \n",
    "There are also many packages to bring in additional functions.\n",
    "\n",
    "NOTE: function inputs are called both `parameters` and `arguments`."
   ]
  },
  {
   "cell_type": "markdown",
   "metadata": {},
   "source": [
    "**A SMALL EXAMPLE**\n",
    "\n",
    "This small function is built in to Python: `bool` \n",
    "\n",
    "Documentation: [Python built-in functions](https://docs.python.org/3/library/functions.html)  \n",
    "\n",
    "Takes an argument $x$ and returns True or False.  "
   ]
  },
  {
   "cell_type": "code",
   "execution_count": 1,
   "metadata": {},
   "outputs": [
    {
     "data": {
      "text/plain": [
       "True"
      ]
     },
     "execution_count": 1,
     "metadata": {},
     "output_type": "execute_result"
    }
   ],
   "source": [
    "# set a variable and pass into a conditional statement\n",
    "\n",
    "x = 3\n",
    "bool(x < 4)"
   ]
  },
  {
   "cell_type": "code",
   "execution_count": null,
   "metadata": {},
   "outputs": [],
   "source": [
    "bool(x >= 4)"
   ]
  },
  {
   "cell_type": "code",
   "execution_count": null,
   "metadata": {},
   "outputs": [],
   "source": [
    "help(bool)"
   ]
  },
  {
   "cell_type": "markdown",
   "metadata": {},
   "source": [
    "Let's get more elaborate, defining x to be a list of integers. This breaks."
   ]
  },
  {
   "cell_type": "code",
   "execution_count": null,
   "metadata": {},
   "outputs": [],
   "source": [
    "x = [3,4]        # define a list of integers\n",
    "thr = 4          # define an integer\n",
    "bool(x >= thr)   # try to compare each value to an integer"
   ]
  },
  {
   "cell_type": "markdown",
   "metadata": {},
   "source": [
    "This broke because the operator doesn't support the comparison.  "
   ]
  },
  {
   "cell_type": "markdown",
   "metadata": {},
   "source": [
    "## II. Creating Functions\n",
    "\n",
    "Let's write a function to compare the list against a threshold."
   ]
  },
  {
   "cell_type": "code",
   "execution_count": null,
   "metadata": {},
   "outputs": [],
   "source": [
    "def vals_greater_than_or_equal_to_threshold(vals, thresh):\n",
    "    '''\n",
    "    PURPOSE: Given a list of values, compare each value against a threshold\n",
    "    \n",
    "    INPUTS\n",
    "    vals    list of ints or floats\n",
    "    thresh  int or float\n",
    "    \n",
    "    OUTPUT\n",
    "    bools  list of booleans\n",
    "    '''\n",
    "    \n",
    "    bools = [val >= thresh for val in vals]\n",
    "    return bools"
   ]
  },
  {
   "cell_type": "markdown",
   "metadata": {},
   "source": [
    "**Let's break down the components:**\n",
    "- the function definition starts with `def`, followed by name, one or more arguments in parenthesis, and then a colon.\n",
    "- next comes a `docstring` to provide annotation\n",
    "- the function body follows\n",
    "- lastly is a `return` statement\n",
    "\n",
    "The `function call` allows for function use. It consists of function name and required arguments:\n",
    "\n",
    "`vals_greater_than_or_equal_to_threshold(arg1, arg2)` where `arg1`, `arg2` are arbitrary names."
   ]
  },
  {
   "cell_type": "markdown",
   "metadata": {},
   "source": [
    "#### docstring\n",
    "\n",
    "- A `docstring` is a string that occurs as first statement in module, function, class, or method definition\n",
    "- Saved in `__doc__` attribute\n",
    "- Needs to be indented\n",
    "- ``` '''enclosed in triple quotes like this''' ```\n",
    "\n",
    "**We gave this function a descriptive docstring to:**\n",
    "\n",
    "- explain its purpose\n",
    "- name each input and output, and give their data types"
   ]
  },
  {
   "cell_type": "markdown",
   "metadata": {},
   "source": [
    "---"
   ]
  },
  {
   "cell_type": "markdown",
   "metadata": {},
   "source": [
    "The function body used a `list comprehension` for the compare:\n",
    "\n",
    "`[val >= thresh for val in vals]` \n",
    "\n",
    "**Let's test our function**"
   ]
  },
  {
   "cell_type": "code",
   "execution_count": null,
   "metadata": {},
   "outputs": [],
   "source": [
    "# validate that it works for ints\n",
    "\n",
    "x = [3, 4]\n",
    "thr = 4\n",
    "\n",
    "vals_greater_than_or_equal_to_threshold(x, thr)"
   ]
  },
  {
   "cell_type": "code",
   "execution_count": null,
   "metadata": {},
   "outputs": [],
   "source": [
    "# validate that it works for floats\n",
    "\n",
    "x = [3.0, 4.2]\n",
    "thr = 4.2\n",
    "\n",
    "vals_greater_than_or_equal_to_threshold(x, thr)"
   ]
  },
  {
   "cell_type": "markdown",
   "metadata": {},
   "source": [
    "This gives correct results and does exactly what we want.  "
   ]
  },
  {
   "cell_type": "markdown",
   "metadata": {},
   "source": [
    "print the docstring"
   ]
  },
  {
   "cell_type": "code",
   "execution_count": null,
   "metadata": {},
   "outputs": [],
   "source": [
    "print(vals_greater_than_or_equal_to_threshold.__doc__)"
   ]
  },
  {
   "cell_type": "markdown",
   "metadata": {},
   "source": [
    "print the help"
   ]
  },
  {
   "cell_type": "code",
   "execution_count": null,
   "metadata": {},
   "outputs": [],
   "source": [
    "help(vals_greater_than_or_equal_to_threshold)"
   ]
  },
  {
   "cell_type": "markdown",
   "metadata": {},
   "source": [
    "--- \n",
    "\n",
    "**TRY FOR YOURSELF (UNGRADED EXERCISES)**"
   ]
  },
  {
   "cell_type": "markdown",
   "metadata": {},
   "source": [
    "1) Write a function with these requirements:\n",
    "- has a sensible name\n",
    "- contains a docstring\n",
    "- takes two inputs: a string, and an integer\n",
    "- returns True if the string length is equal to the integer, else False\n",
    "\n",
    "2) Call the function, passing inputs:  \n",
    "- `\"is this text the right length?\"` for the string\n",
    "- `30` for the integer\n",
    "\n",
    "Verify the output is True.  \n",
    "Try other combinations."
   ]
  },
  {
   "cell_type": "code",
   "execution_count": null,
   "metadata": {},
   "outputs": [],
   "source": []
  },
  {
   "cell_type": "code",
   "execution_count": null,
   "metadata": {
    "scrolled": true
   },
   "outputs": [],
   "source": [
    "def verify_string_length(text, val):\n",
    "    \"\"\"\n",
    "    PURPOSE: check if the length of text is equal to a value\n",
    "    \n",
    "    INPUTS:\n",
    "    text   str\n",
    "    val    integer\n",
    "    \n",
    "    OUTPUTS:\n",
    "    bool, check\n",
    "    \"\"\"\n",
    "    \n",
    "    check = len(text) == val\n",
    "    return check\n",
    "\n",
    "txt = 'is this text the right length?'\n",
    "val = 30\n",
    "out = verify_string_length(txt, val)\n",
    "out"
   ]
  },
  {
   "cell_type": "markdown",
   "metadata": {},
   "source": [
    "---\n"
   ]
  },
  {
   "cell_type": "markdown",
   "metadata": {},
   "source": [
    "## III. Passing Parameters\n",
    "\n",
    "Functions need to be called with correct number of parameters  \n",
    "This function requires two params, but the function call includes only one param\n"
   ]
  },
  {
   "cell_type": "code",
   "execution_count": null,
   "metadata": {},
   "outputs": [],
   "source": [
    "def fcn_bad_args(x, y):\n",
    "    return x+y\n",
    "\n",
    "fcn_bad_args(10)"
   ]
  },
  {
   "cell_type": "markdown",
   "metadata": {},
   "source": [
    "When calling a function, parameter order matters."
   ]
  },
  {
   "cell_type": "code",
   "execution_count": null,
   "metadata": {},
   "outputs": [],
   "source": [
    "x = 1\n",
    "y = 2\n",
    "\n",
    "def fcn_swapped_args(x, y):\n",
    "    out = 5*x + y\n",
    "    return out\n",
    "\n",
    "print('fcn_swapped_args(x,y) =', fcn_swapped_args(x,y))\n",
    "print('fcn_swapped_args(y,x) =', fcn_swapped_args(y,x))"
   ]
  },
  {
   "cell_type": "markdown",
   "metadata": {},
   "source": [
    "Generally it's best to keep parameters in order.  \n",
    "You can swap the order by putting the parameter names in the function call."
   ]
  },
  {
   "cell_type": "code",
   "execution_count": null,
   "metadata": {},
   "outputs": [],
   "source": [
    "x1 = 1\n",
    "y1 = 2\n",
    "fcn_swapped_args(y=y1, x=x1)"
   ]
  },
  {
   "cell_type": "markdown",
   "metadata": {},
   "source": [
    "## IV. Using *args\n",
    "\n",
    "The *-operator can be passed to avoid specifying the arguments."
   ]
  },
  {
   "cell_type": "code",
   "execution_count": null,
   "metadata": {},
   "outputs": [],
   "source": [
    "def show_arg_expansion(*models):\n",
    "    \n",
    "    print(\"models          :\", models)\n",
    "    print(\"input arg type  :\",  type(models))\n",
    "    print(\"input arg length:\", len(models))\n",
    "    print(\"-----------------------------\")\n",
    "    \n",
    "    for mod in models:\n",
    "        print(mod)\n",
    "        \n",
    "show_arg_expansion(\"logreg\", \"naive_bayes\", \"gbm\")"
   ]
  },
  {
   "cell_type": "markdown",
   "metadata": {},
   "source": [
    "Notice the function received the arguments as a `tuple`.  It sees three args.\n",
    "\n",
    "You can pass a list to the function. If you want the elements unpacked, put * before the list."
   ]
  },
  {
   "cell_type": "code",
   "execution_count": null,
   "metadata": {},
   "outputs": [],
   "source": [
    "models = [\"logreg\", \"naive_bayes\", \"gbm\"]\n",
    "show_arg_expansion(*models)"
   ]
  },
  {
   "cell_type": "markdown",
   "metadata": {},
   "source": [
    "--- \n",
    "\n",
    "**TRY FOR YOURSELF (UNGRADED EXERCISES)**"
   ]
  },
  {
   "cell_type": "markdown",
   "metadata": {},
   "source": [
    "3) Write a function with these requirements:\n",
    "- takes *args for the input argument (like above)\n",
    "- squares each argument, printing the value. you can use a `for` loop like above.\n",
    "- returns None\n",
    "\n",
    "Next, call the function, passing at least two integers"
   ]
  },
  {
   "cell_type": "code",
   "execution_count": null,
   "metadata": {},
   "outputs": [],
   "source": []
  },
  {
   "cell_type": "code",
   "execution_count": null,
   "metadata": {},
   "outputs": [],
   "source": [
    "def square_args(*vars):\n",
    "    \n",
    "    for var in vars:\n",
    "        print(var**2)\n",
    "    return None\n",
    "    \n",
    "square_args(2,3,8)"
   ]
  },
  {
   "cell_type": "markdown",
   "metadata": {},
   "source": [
    "---\n"
   ]
  },
  {
   "cell_type": "markdown",
   "metadata": {},
   "source": [
    "## V. Default Arguments"
   ]
  },
  {
   "cell_type": "markdown",
   "metadata": {},
   "source": [
    "`default arguments` set the value when left unspecified."
   ]
  },
  {
   "cell_type": "code",
   "execution_count": null,
   "metadata": {},
   "outputs": [],
   "source": [
    "def show_results(precision, printing=True):\n",
    "    precision = round(precision, 2)\n",
    "    \n",
    "    if printing:\n",
    "      print('precision =', precision)\n",
    "    return precision"
   ]
  },
  {
   "cell_type": "code",
   "execution_count": null,
   "metadata": {},
   "outputs": [],
   "source": [
    "pr = 0.912\n",
    "res = show_results(pr)"
   ]
  },
  {
   "cell_type": "markdown",
   "metadata": {},
   "source": [
    "The function call didn't specify `printing`, so it defaulted to True.\n",
    "\n",
    "Default arguments must follow non-default arguments. This causes trouble:"
   ]
  },
  {
   "cell_type": "code",
   "execution_count": null,
   "metadata": {},
   "outputs": [],
   "source": [
    "def show_results(precision, printing=True, uhoh):\n",
    "    precision = round(precision, 2)\n",
    "    \n",
    "    if printing:\n",
    "      print('precision =', precision)\n",
    "    return precision"
   ]
  },
  {
   "cell_type": "markdown",
   "metadata": {},
   "source": [
    "## VI. Returning Values\n",
    "\n",
    "Functions are not required to have return statement.\n",
    "If there is no return statement, function returns `None` object.  \n",
    "\n",
    "Functions can return no value (`None` object), one value, or many.  \n",
    "\n",
    "Any Python object can be returned.  "
   ]
  },
  {
   "cell_type": "code",
   "execution_count": null,
   "metadata": {},
   "outputs": [],
   "source": [
    "# returns None, and prints.\n",
    "\n",
    "def fcn_nothing_to_return(x, y):\n",
    "    out = 'nothing to see here!'\n",
    "    print(out)"
   ]
  },
  {
   "cell_type": "code",
   "execution_count": null,
   "metadata": {},
   "outputs": [],
   "source": [
    "fcn_nothing_to_return(x, y)"
   ]
  },
  {
   "cell_type": "code",
   "execution_count": null,
   "metadata": {},
   "outputs": [],
   "source": [
    "# returns three values\n",
    "\n",
    "def negate_coords(x, y, z):\n",
    "    return -x, -y, -z "
   ]
  },
  {
   "cell_type": "code",
   "execution_count": null,
   "metadata": {},
   "outputs": [],
   "source": [
    "a,b,c = negate_coords(10,20,30)\n",
    "print('a=', a)\n",
    "print('b=', b)\n",
    "print('c=', c)"
   ]
  },
  {
   "cell_type": "markdown",
   "metadata": {},
   "source": [
    "**If you don't need an output, use _**"
   ]
  },
  {
   "cell_type": "code",
   "execution_count": null,
   "metadata": {},
   "outputs": [],
   "source": [
    "d,e,_ = negate_coords(10,20,30)\n",
    "print('d=', d)\n",
    "print('e=', e)"
   ]
  },
  {
   "cell_type": "markdown",
   "metadata": {},
   "source": [
    "**Note:** For clarity purposes, it's generally a good idea to include return statements, even if not returning a value.  \n",
    "You can use `return` or `return None`."
   ]
  },
  {
   "cell_type": "markdown",
   "metadata": {},
   "source": [
    "**Functions can contain multiple return statements**"
   ]
  },
  {
   "cell_type": "code",
   "execution_count": null,
   "metadata": {},
   "outputs": [],
   "source": [
    "def absolute_value(num):\n",
    "    if num >= 0:\n",
    "        return num\n",
    "    return -num"
   ]
  },
  {
   "cell_type": "code",
   "execution_count": null,
   "metadata": {},
   "outputs": [],
   "source": [
    "absolute_value(-4)"
   ]
  },
  {
   "cell_type": "code",
   "execution_count": null,
   "metadata": {},
   "outputs": [],
   "source": [
    "absolute_value(4)"
   ]
  },
  {
   "cell_type": "markdown",
   "metadata": {},
   "source": [
    "For non-negative values, the first `return` is reached.  \n",
    "For negative values, the second `return` is reached."
   ]
  },
  {
   "cell_type": "markdown",
   "metadata": {},
   "source": [
    "--- \n",
    "\n",
    "**TRY FOR YOURSELF (UNGRADED EXERCISES)**"
   ]
  },
  {
   "cell_type": "markdown",
   "metadata": {},
   "source": [
    "4) Write a small function that returns two outputs. Verify it works properly."
   ]
  },
  {
   "cell_type": "code",
   "execution_count": null,
   "metadata": {},
   "outputs": [],
   "source": []
  },
  {
   "cell_type": "markdown",
   "metadata": {},
   "source": [
    "5) Define a step function with these requirements:\n",
    "- take one numeric value as input\n",
    "- subtract 5 from the value\n",
    "- return 1 if the difference is nonnegative, else return 0\n",
    "\n",
    "Call the function on different values to test it."
   ]
  },
  {
   "cell_type": "code",
   "execution_count": null,
   "metadata": {},
   "outputs": [],
   "source": []
  },
  {
   "cell_type": "code",
   "execution_count": null,
   "metadata": {
    "jupyter": {
     "source_hidden": true
    }
   },
   "outputs": [],
   "source": [
    "def step(x):\n",
    "    diff = x - 5\n",
    "    if diff >= 0:\n",
    "        return 1\n",
    "    return 0"
   ]
  },
  {
   "cell_type": "code",
   "execution_count": null,
   "metadata": {},
   "outputs": [],
   "source": [
    "step(6)"
   ]
  },
  {
   "cell_type": "code",
   "execution_count": null,
   "metadata": {},
   "outputs": [],
   "source": [
    "step(4)"
   ]
  },
  {
   "cell_type": "markdown",
   "metadata": {},
   "source": [
    "---\n"
   ]
  },
  {
   "cell_type": "markdown",
   "metadata": {},
   "source": [
    "## VII. Variable Scope\n",
    "\n",
    "A variable's `scope` is the part of a program where it exists.  \n",
    "Variables defined in a function: \n",
    "- aren't visible outside the function; they are `local` to the function\n",
    "- are destroyed when the function terminates"
   ]
  },
  {
   "cell_type": "code",
   "execution_count": null,
   "metadata": {},
   "outputs": [],
   "source": [
    "def show_scope(x):\n",
    "    x = 10*x\n",
    "    z = 4\n",
    "    print('z inside function=', z)\n",
    "    print('memory address of z inside function=', id(z))\n",
    "    return x"
   ]
  },
  {
   "cell_type": "code",
   "execution_count": null,
   "metadata": {},
   "outputs": [],
   "source": [
    "out = show_scope(6)\n",
    "print('out', out)\n",
    "print('z=', z)"
   ]
  },
  {
   "cell_type": "markdown",
   "metadata": {},
   "source": [
    "This code recognizes z from inside the function.  \n",
    "Calling it from outside, where it isn't defined, throws an error."
   ]
  },
  {
   "cell_type": "markdown",
   "metadata": {},
   "source": [
    "If we define `z` and call the function, the update to `z` won't pass outside the function."
   ]
  },
  {
   "cell_type": "code",
   "execution_count": null,
   "metadata": {},
   "outputs": [],
   "source": [
    "z = 2\n",
    "print('z outside:', id(z))\n",
    "out = show_scope(6)\n",
    "print('z=', z)"
   ]
  },
  {
   "cell_type": "markdown",
   "metadata": {},
   "source": [
    "### Local versus Global Variables\n",
    "\n",
    "It is helpful to have a good understanding of local versus global variables.  \n",
    "Not having this understanding can lead to surprises and confusion.  \n",
    "\n",
    "**Example 1: Variable defined outside function, used inside function**\n",
    "\n",
    "`x` is global and seen from inside the function.  \n",
    "`a` is local to the function. trying to print outside function throws error."
   ]
  },
  {
   "cell_type": "code",
   "execution_count": null,
   "metadata": {},
   "outputs": [],
   "source": [
    "x = 10\n",
    "\n",
    "def fcn(a):\n",
    "    out = x + a\n",
    "    return(out)\n",
    "\n",
    "print(fcn(6)) # works\n",
    "print(a)      # fails"
   ]
  },
  {
   "cell_type": "markdown",
   "metadata": {},
   "source": [
    "**Example 2: Variable defined outside function, updated and used inside function**\n",
    "\n",
    "`fcn` uses the local version of `x`"
   ]
  },
  {
   "cell_type": "code",
   "execution_count": null,
   "metadata": {},
   "outputs": [],
   "source": [
    "x = 10\n",
    "\n",
    "def fcn(a):\n",
    "    x = 20\n",
    "    out = x + a\n",
    "    print('x from fcn:', x)\n",
    "    return(out)\n",
    "\n",
    "print('fcn(6):', fcn(6))\n",
    "print('x:', x)"
   ]
  },
  {
   "cell_type": "markdown",
   "metadata": {},
   "source": [
    "**Example 3: Variable defined outside function. Inside function, print variable, update, and use**  \n",
    "This one may be confusing. It fails!  \n",
    "\n",
    "Python treats `x` inside function as the local `x`.  \n",
    "The print() occurs before `x` is assigned, so it can't find `x`."
   ]
  },
  {
   "cell_type": "code",
   "execution_count": null,
   "metadata": {},
   "outputs": [],
   "source": [
    "x = 10\n",
    "\n",
    "def fcn(a):\n",
    "    print('x from fcn, before update:', x)\n",
    "    x = 20\n",
    "    out = x + a\n",
    "    print('x from fcn, after update:', x)\n",
    "    return(out)\n",
    "\n",
    "print('fcn(6):', fcn(6))\n",
    "print('x:', x)"
   ]
  },
  {
   "cell_type": "markdown",
   "metadata": {},
   "source": [
    "Error can be fixed by referencing x as `global` inside function.  \n",
    "Only necessary if we wish to reassign the variable."
   ]
  },
  {
   "cell_type": "code",
   "execution_count": null,
   "metadata": {},
   "outputs": [],
   "source": [
    "x = 10\n",
    "\n",
    "def fcn(a):\n",
    "    global x    # add this to reference global x outside function\n",
    "    print('x from fcn, before update:', x)\n",
    "    x = 20\n",
    "    out = x + a\n",
    "    print('x from fcn, after update:', x)\n",
    "    return(out)\n",
    "\n",
    "print('fcn(6):', fcn(6))\n",
    "print('x:', x)"
   ]
  },
  {
   "cell_type": "markdown",
   "metadata": {},
   "source": [
    "**TRY FOR YOURSELF (UNGRADED EXERCISES)**"
   ]
  },
  {
   "cell_type": "markdown",
   "metadata": {},
   "source": [
    "5) Define a function that creates and prints a variable.  \n",
    "Show that calling this variable outside the function produces an error."
   ]
  },
  {
   "cell_type": "code",
   "execution_count": null,
   "metadata": {},
   "outputs": [],
   "source": []
  },
  {
   "cell_type": "markdown",
   "metadata": {},
   "source": [
    "##  VIII. A Note about Function Style\n",
    "\n",
    "\n",
    "Some good practices for creating and using functions:\n",
    "\n",
    "- design a function to do one thing\n",
    "\n",
    "Make them as simple as possible, which makes them: \n",
    "- more comprehensible\n",
    "- easier to maintain\n",
    "- reusable\n",
    "\n",
    "This helps avoid situations where a team has 20 variations of similar functions\n",
    "\n",
    "- give your function a good name\n",
    "\n",
    "A name like `compute_variances_sort_save_print` suggests the function is overworked!\n",
    "\n",
    "If the function `compute_variances` also produces plots and updates variables, it will cause confusion.  \n",
    "\n",
    "- always give your function a docstring\n",
    "\n",
    "Particularly important since indicating data types is not required.  \n",
    "As a side note, you can include this information by using `type annotation`.\n",
    "\n",
    "Function docstrings are stored in attribute `__doc__`; they can be shown like this:"
   ]
  },
  {
   "cell_type": "code",
   "execution_count": null,
   "metadata": {},
   "outputs": [],
   "source": [
    "print(bool.__doc__)"
   ]
  },
  {
   "cell_type": "markdown",
   "metadata": {},
   "source": [
    "---"
   ]
  }
 ],
 "metadata": {
  "anaconda-cloud": {},
  "kernelspec": {
   "display_name": "Python 3",
   "language": "python",
   "name": "python3"
  },
  "language_info": {
   "codemirror_mode": {
    "name": "ipython",
    "version": 3
   },
   "file_extension": ".py",
   "mimetype": "text/x-python",
   "name": "python",
   "nbconvert_exporter": "python",
   "pygments_lexer": "ipython3",
   "version": "3.8.8"
  }
 },
 "nbformat": 4,
 "nbformat_minor": 4
}
